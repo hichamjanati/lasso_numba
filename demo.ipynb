{
 "cells": [
  {
   "cell_type": "code",
   "execution_count": 1,
   "metadata": {},
   "outputs": [],
   "source": [
    "import numba as nb\n",
    "import numpy as np\n",
    "from numba import jit, int64, njit, float64, int64\n",
    "import cython\n",
    "%load_ext cython\n",
    "\n",
    "@njit(float64(float64))\n",
    "def fsign(f):\n",
    "    if f == 0:\n",
    "        return 0\n",
    "    elif f > 0:\n",
    "        return 1.0\n",
    "    else:\n",
    "        return -1.0\n",
    "\n",
    "    \n",
    "def lasso_np(X, y, alpha, maxiter=200):\n",
    "    n, p = X.shape\n",
    "    beta = np.zeros(p)\n",
    "    R = y.copy()\n",
    "    norm_cols_X = (X ** 2).sum(axis=0)\n",
    "\n",
    "    for n_iter in range(maxiter):\n",
    "        for ii in range(p):\n",
    "            beta_ii = beta[ii]\n",
    "            # Get current residual\n",
    "            if beta_ii != 0.:\n",
    "                R += X[:, ii] * beta_ii\n",
    "            tmp = np.dot(X[:, ii], R)\n",
    "            # Soft thresholding\n",
    "            beta[ii] = fsign(tmp) * max(abs(tmp) - alpha, 0) / norm_cols_X[ii]\n",
    "            if beta[ii] != 0.:\n",
    "                R -= X[:, ii] * beta[ii]\n",
    "    return beta\n",
    "\n",
    "@jit(float64[:](float64[::1, :], float64[::1], float64, int64), nopython=True, cache=True)\n",
    "def lasso_nb(X, y, alpha, maxiter=200):\n",
    "    n, p = X.shape\n",
    "    beta = np.zeros(p)\n",
    "    R = y.copy()\n",
    "    norm_cols_X = (X ** 2).sum(axis=0)\n",
    "\n",
    "    for n_iter in range(maxiter):\n",
    "        for ii in range(p):\n",
    "            beta_ii = beta[ii]\n",
    "            # Get current residual\n",
    "            if beta_ii != 0.:\n",
    "                R += X[:, ii] * beta_ii\n",
    "            tmp = np.dot(X[:, ii], R)\n",
    "            # Soft thresholding\n",
    "            beta[ii] = fsign(tmp) * max(abs(tmp) - alpha, 0) / norm_cols_X[ii]\n",
    "\n",
    "            if beta[ii] != 0.:\n",
    "                R -= X[:, ii] * beta[ii]\n",
    "    return beta"
   ]
  },
  {
   "cell_type": "code",
   "execution_count": 2,
   "metadata": {},
   "outputs": [],
   "source": [
    "%%cython\n",
    "cimport cython\n",
    "cimport numpy as np\n",
    "import numpy as np\n",
    "from cython cimport floating\n",
    "from libc.math cimport fabs, sqrt\n",
    "from scipy.linalg.cython_blas cimport ddot, dasum, daxpy, dnrm2, dcopy, dscal\n",
    "from scipy.linalg.cython_blas cimport sdot, sasum, saxpy, snrm2, scopy, sscal\n",
    "\n",
    "\n",
    "cdef floating fsign(floating f) nogil:\n",
    "    if f == 0:\n",
    "        return 0\n",
    "    elif f > 0:\n",
    "        return 1.0\n",
    "    else:\n",
    "        return -1.0\n",
    "\n",
    "cdef floating fdot(int * n, floating * x, int * inc1, floating * y,\n",
    "                        int * inc2) nogil:\n",
    "    if floating is double:\n",
    "        return ddot(n, x, inc1, y, inc2)\n",
    "    else:\n",
    "        return sdot(n, x, inc1, y, inc2)\n",
    "\n",
    "cdef void faxpy(int * n, floating * alpha, floating * x, int * incx,\n",
    "                 floating * y, int * incy) nogil:\n",
    "    if floating is double:\n",
    "        daxpy(n, alpha, x, incx, y, incy)\n",
    "    else:\n",
    "        saxpy(n, alpha, x, incx, y, incy)\n",
    "\n",
    "\n",
    "cdef void fcopy(int * n, floating * x, int * incx, floating * y,\n",
    "                     int * incy) nogil:\n",
    "    if floating is double:\n",
    "        dcopy(n, x, incx, y, incy)\n",
    "    else:\n",
    "        scopy(n, x, incx, y, incy)\n",
    "\n",
    "        \n",
    "cdef floating fnrm2(int * n, floating * x, int * inc) nogil:\n",
    "    if floating is double:\n",
    "        return dnrm2(n, x, inc)\n",
    "    else:\n",
    "        return snrm2(n, x, inc)\n",
    "\n",
    "    \n",
    "@cython.boundscheck(False)\n",
    "@cython.wraparound(False)\n",
    "@cython.cdivision(True)\n",
    "cdef floating[:] ct_solver(int n_samples, int n_features,\n",
    "                           floating[::1, :] X, floating[:] y,\n",
    "                           floating[:] norms_X_col,\n",
    "                           floating[:] beta, floating[:] R,\n",
    "                           floating alpha,\n",
    "                           int maxiter=200) nogil:\n",
    "    \"\"\"CD solver for l2 reg kl interpolation.\"\"\"\n",
    "\n",
    "    cdef:\n",
    "        int inc = 1\n",
    "        floating tmp\n",
    "        floating mbetaj\n",
    "\n",
    "    fcopy(&n_samples, &y[0], &inc, &R[0], &inc)\n",
    "    for i in range(maxiter):\n",
    "        maxw = 0.\n",
    "        for j in range(n_features):\n",
    "            # tmp is the prox argument\n",
    "            if beta[j] != 0.:\n",
    "                faxpy(&n_samples, &beta[j], &X[0, j], &inc, &R[0], &inc)\n",
    "                #R += X[:, j] * beta[j]\n",
    "    \n",
    "            #tmp = X[:, j].dot(R)\n",
    "            tmp = fdot(&n_samples, &R[0], &inc, &X[0, j], &inc)\n",
    "            # l1 thresholding\n",
    "            beta[j] = fsign(tmp) * max(fabs(tmp) - alpha, 0) / norms_X_col[j]\n",
    "\n",
    "            if beta[j] != 0.:\n",
    "                mbetaj = - beta[j]\n",
    "                faxpy(&n_samples, &mbetaj, &X[0, j], &inc, &R[0], &inc)\n",
    "                # R += - beta[j] * X[:, j]\n",
    "\n",
    "    return beta\n",
    "\n",
    "\n",
    "@cython.boundscheck(False)\n",
    "@cython.wraparound(False)\n",
    "@cython.cdivision(True)\n",
    "def lasso_ct(floating[::1, :] X, floating[:] y, floating alpha, int maxiter=200):\n",
    "    \n",
    "    cdef:\n",
    "        int n_samples\n",
    "        int n_features\n",
    "        int inc = 1\n",
    "    n_samples = X.shape[0]\n",
    "    n_features = X.shape[1]\n",
    "\n",
    "    if floating is double:\n",
    "        dtype = np.float64\n",
    "    else:\n",
    "        dtype = np.float32\n",
    "    cdef:\n",
    "        floating[:] sol\n",
    "        floating[:] R = np.empty(n_samples, dtype=dtype)\n",
    "        floating[:] beta = np.zeros(n_features, dtype=dtype)\n",
    "        floating[:] norms_X_col = np.empty(n_features, dtype=dtype)\n",
    "    # compute norms_X_col\n",
    "    for j in range(n_features):\n",
    "        norms_X_col[j] = fdot(&n_samples, &X[0, j], &inc, &X[0, j], &inc)\n",
    "    with nogil:\n",
    "        sol = ct_solver(n_samples, n_features, X, y, norms_X_col, beta, R, alpha, maxiter)\n",
    "    \n",
    "    return np.asarray(sol)"
   ]
  },
  {
   "cell_type": "code",
   "execution_count": 3,
   "metadata": {},
   "outputs": [],
   "source": [
    "rnd = np.random.RandomState(42)\n",
    "n, p = 500, 10000\n",
    "X = rnd.randn(n, p)\n",
    "X /= X.std(axis=0)\n",
    "theta = rnd.randn(p)\n",
    "theta[30:] = 0.\n",
    "y = X.dot(theta)\n",
    "y += np.std(y) * rnd.randn(n)\n",
    "Xf = np.asfortranarray(X)"
   ]
  },
  {
   "cell_type": "code",
   "execution_count": 4,
   "metadata": {},
   "outputs": [
    {
     "data": {
      "text/plain": [
       "(9.769962616701378e-15, 5.189182417097982e-13)"
      ]
     },
     "execution_count": 4,
     "metadata": {},
     "output_type": "execute_result"
    }
   ],
   "source": [
    "beta_ct = lasso_ct(Xf, y, alpha=0.1, maxiter=200)\n",
    "beta_nb = lasso_nb(Xf, y, alpha=0.1, maxiter=200)\n",
    "beta_np = lasso_np(X, y, alpha=0.1, maxiter=200)\n",
    "abs(beta_nb - beta_np).max(), abs(beta_ct - beta_np).max()"
   ]
  },
  {
   "cell_type": "code",
   "execution_count": 5,
   "metadata": {},
   "outputs": [
    {
     "name": "stdout",
     "output_type": "stream",
     "text": [
      "636 ms ± 8.59 ms per loop (mean ± std. dev. of 7 runs, 1 loop each)\n"
     ]
    }
   ],
   "source": [
    "%timeit beta_ct = lasso_ct(Xf, y, alpha=0.1, maxiter=200)"
   ]
  },
  {
   "cell_type": "code",
   "execution_count": 6,
   "metadata": {},
   "outputs": [
    {
     "name": "stdout",
     "output_type": "stream",
     "text": [
      "1.23 s ± 65.6 ms per loop (mean ± std. dev. of 7 runs, 1 loop each)\n"
     ]
    }
   ],
   "source": [
    "%timeit beta_nb = lasso_nb(Xf, y, alpha=0.1, maxiter=200)"
   ]
  },
  {
   "cell_type": "code",
   "execution_count": 7,
   "metadata": {},
   "outputs": [
    {
     "name": "stdout",
     "output_type": "stream",
     "text": [
      "12.8 s ± 232 ms per loop (mean ± std. dev. of 7 runs, 1 loop each)\n"
     ]
    }
   ],
   "source": [
    "%timeit beta_np = lasso_np(X, y, alpha=0.1, maxiter=200)"
   ]
  },
  {
   "cell_type": "code",
   "execution_count": null,
   "metadata": {},
   "outputs": [],
   "source": []
  }
 ],
 "metadata": {
  "kernelspec": {
   "display_name": "Python 3",
   "language": "python",
   "name": "python3"
  },
  "language_info": {
   "codemirror_mode": {
    "name": "ipython",
    "version": 3
   },
   "file_extension": ".py",
   "mimetype": "text/x-python",
   "name": "python",
   "nbconvert_exporter": "python",
   "pygments_lexer": "ipython3",
   "version": "3.6.4"
  }
 },
 "nbformat": 4,
 "nbformat_minor": 2
}
